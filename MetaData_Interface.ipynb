{
 "cells": [
  {
   "cell_type": "markdown",
   "metadata": {},
   "source": [
    "# Script for User Input of RDE MetaData\n",
    "\n",
    "Please enter as much information as you can!\n"
   ]
  },
  {
   "cell_type": "code",
   "execution_count": 40,
   "metadata": {
    "collapsed": true
   },
   "outputs": [],
   "source": [
    "data = dict()"
   ]
  },
  {
   "cell_type": "code",
   "execution_count": 41,
   "metadata": {
    "collapsed": false
   },
   "outputs": [
    {
     "name": "stdout",
     "output_type": "stream",
     "text": [
      "Enter Working Electrode Details: Platinum\n"
     ]
    }
   ],
   "source": [
    "data['workElec'] = [input('Enter Working Electrode Material: ')]"
   ]
  },
  {
   "cell_type": "code",
   "execution_count": 42,
   "metadata": {
    "collapsed": false
   },
   "outputs": [
    {
     "name": "stdout",
     "output_type": "stream",
     "text": [
      "Enter Reference Electrode Details: Calomel\n"
     ]
    }
   ],
   "source": [
    "data['RefElec'] = input('Enter Reference Electrode Material: ')"
   ]
  },
  {
   "cell_type": "code",
   "execution_count": 44,
   "metadata": {
    "collapsed": false
   },
   "outputs": [
    {
     "name": "stdout",
     "output_type": "stream",
     "text": [
      "Enter Counter Electrode Details: Graphite\n"
     ]
    }
   ],
   "source": [
    "data['CountElec'] = input('Enter Counter Electrode Material: ')"
   ]
  },
  {
   "cell_type": "code",
   "execution_count": 45,
   "metadata": {
    "collapsed": false
   },
   "outputs": [
    {
     "name": "stdout",
     "output_type": "stream",
     "text": [
      "Enter Working Electrode Area: 2\n"
     ]
    }
   ],
   "source": [
    "data['WorkElecArea'] = input('Enter Working Electrode Area: ')"
   ]
  },
  {
   "cell_type": "code",
   "execution_count": 46,
   "metadata": {
    "collapsed": false
   },
   "outputs": [
    {
     "name": "stdout",
     "output_type": "stream",
     "text": [
      "Enter Working Electrode Area Units: cm2\n"
     ]
    }
   ],
   "source": [
    "data['WorkElecArea_units'] = input('Enter Working Electrode Area Units: ')"
   ]
  },
  {
   "cell_type": "code",
   "execution_count": 47,
   "metadata": {
    "collapsed": false
   },
   "outputs": [
    {
     "name": "stdout",
     "output_type": "stream",
     "text": [
      "Enter Electrolyte Solvent: Water\n"
     ]
    }
   ],
   "source": [
    "data['SolventElyte'] = input('Enter Electrolyte Solvent: ')"
   ]
  },
  {
   "cell_type": "code",
   "execution_count": 48,
   "metadata": {
    "collapsed": false
   },
   "outputs": [
    {
     "name": "stdout",
     "output_type": "stream",
     "text": [
      "Enter Electrolyte Solute: Abscorbic Acid\n"
     ]
    }
   ],
   "source": [
    "data['SoluteElyte'] = input('Enter Electrolyte Solute: ')"
   ]
  },
  {
   "cell_type": "code",
   "execution_count": 49,
   "metadata": {
    "collapsed": false
   },
   "outputs": [
    {
     "name": "stdout",
     "output_type": "stream",
     "text": [
      "Enter Electrolyte Redox Species: Abscorbic Acid\n"
     ]
    }
   ],
   "source": [
    "data['RedoxElyte'] = input('Enter Electrolyte Redox Species: ')"
   ]
  },
  {
   "cell_type": "code",
   "execution_count": 50,
   "metadata": {
    "collapsed": false
   },
   "outputs": [
    {
     "name": "stdout",
     "output_type": "stream",
     "text": [
      "Enter Electrolyte Concentration1E-3\n"
     ]
    }
   ],
   "source": [
    "data['MolarityElyte'] = input('Enter Electrolyte Concentration')"
   ]
  },
  {
   "cell_type": "code",
   "execution_count": 51,
   "metadata": {
    "collapsed": false
   },
   "outputs": [
    {
     "name": "stdout",
     "output_type": "stream",
     "text": [
      "Enter Electrolyte Concentration units: mol/cm3\n"
     ]
    }
   ],
   "source": [
    "data['MolarityElyte_units'] = input('Enter Electrolyte Concentration units: ')"
   ]
  },
  {
   "cell_type": "code",
   "execution_count": 52,
   "metadata": {
    "collapsed": false
   },
   "outputs": [
    {
     "name": "stdout",
     "output_type": "stream",
     "text": [
      "Enter System Temperature: 300\n"
     ]
    }
   ],
   "source": [
    "data['Temperature'] = input('Enter System Temperature: ')"
   ]
  },
  {
   "cell_type": "code",
   "execution_count": 53,
   "metadata": {
    "collapsed": false
   },
   "outputs": [
    {
     "name": "stdout",
     "output_type": "stream",
     "text": [
      "Enter System Temperature Units: K\n"
     ]
    }
   ],
   "source": [
    "data['Temperature_units'] = input('Enter System Temperature Units: ')"
   ]
  },
  {
   "cell_type": "code",
   "execution_count": 54,
   "metadata": {
    "collapsed": false
   },
   "outputs": [
    {
     "name": "stdout",
     "output_type": "stream",
     "text": [
      "Enter instrument information: Gamry\n"
     ]
    }
   ],
   "source": [
    "data['Model'] = input('Enter instrument information: ')"
   ]
  },
  {
   "cell_type": "code",
   "execution_count": 55,
   "metadata": {
    "collapsed": false
   },
   "outputs": [
    {
     "name": "stdout",
     "output_type": "stream",
     "text": [
      "Enter rotation speed: 300\n"
     ]
    }
   ],
   "source": [
    "data['omega'] = input('Enter rotation speed: ')"
   ]
  },
  {
   "cell_type": "code",
   "execution_count": 56,
   "metadata": {
    "collapsed": false
   },
   "outputs": [
    {
     "name": "stdout",
     "output_type": "stream",
     "text": [
      "Enter rotation speed units: RPM\n"
     ]
    }
   ],
   "source": [
    "data['omega_units'] = input('Enter rotation speed units: ')"
   ]
  },
  {
   "cell_type": "code",
   "execution_count": 60,
   "metadata": {
    "collapsed": false
   },
   "outputs": [
    {
     "name": "stdout",
     "output_type": "stream",
     "text": [
      "Enter journal information: ECS Hack Day\n"
     ]
    }
   ],
   "source": [
    "data['Journal'] = input('Enter journal information: ')"
   ]
  },
  {
   "cell_type": "code",
   "execution_count": 61,
   "metadata": {
    "collapsed": false
   },
   "outputs": [
    {
     "name": "stdout",
     "output_type": "stream",
     "text": [
      "Enter journal year: 2017\n"
     ]
    }
   ],
   "source": [
    "data['Year'] = input('Enter journal year: ')"
   ]
  },
  {
   "cell_type": "code",
   "execution_count": 62,
   "metadata": {
    "collapsed": false
   },
   "outputs": [],
   "source": [
    "import csv\n",
    "with open('Metadata.csv', 'w') as csv_file:\n",
    "    writer = csv.writer(csv_file)\n",
    "    for key, value in data.items():\n",
    "       writer.writerow([key, value])"
   ]
  },
  {
   "cell_type": "code",
   "execution_count": null,
   "metadata": {
    "collapsed": true
   },
   "outputs": [],
   "source": []
  }
 ],
 "metadata": {
  "kernelspec": {
   "display_name": "Python 3",
   "language": "python",
   "name": "python3"
  },
  "language_info": {
   "codemirror_mode": {
    "name": "ipython",
    "version": 3
   },
   "file_extension": ".py",
   "mimetype": "text/x-python",
   "name": "python",
   "nbconvert_exporter": "python",
   "pygments_lexer": "ipython3",
   "version": "3.6.0"
  }
 },
 "nbformat": 4,
 "nbformat_minor": 2
}
